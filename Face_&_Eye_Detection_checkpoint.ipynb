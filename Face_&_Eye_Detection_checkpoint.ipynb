{
  "nbformat": 4,
  "nbformat_minor": 0,
  "metadata": {
    "colab": {
      "name": "Face & Eye Detection -checkpoint.ipynb",
      "provenance": [],
      "mount_file_id": "1hgo9iuLzsotX1NxUX5cjzio0LDg2_p2Y",
      "authorship_tag": "ABX9TyOdItn60SArp8rH617ym37B",
      "include_colab_link": true
    },
    "kernelspec": {
      "name": "python3",
      "display_name": "Python 3"
    },
    "language_info": {
      "name": "python"
    }
  },
  "cells": [
    {
      "cell_type": "markdown",
      "metadata": {
        "id": "view-in-github",
        "colab_type": "text"
      },
      "source": [
        "<a href=\"https://colab.research.google.com/github/mafiTec/Deep-Neural-Networks/blob/main/Face_%26_Eye_Detection_checkpoint.ipynb\" target=\"_parent\"><img src=\"https://colab.research.google.com/assets/colab-badge.svg\" alt=\"Open In Colab\"/></a>"
      ]
    },
    {
      "cell_type": "markdown",
      "metadata": {
        "id": "XSg_cRn59yLN"
      },
      "source": [
        "# Face & Eye Detection using HAAR Cascade Classifiers\n",
        "\n",
        "# face detection"
      ]
    },
    {
      "cell_type": "code",
      "metadata": {
        "id": "FJXX83SU9pXI"
      },
      "source": [
        "import matplotlib.pyplot as plt"
      ],
      "execution_count": null,
      "outputs": []
    },
    {
      "cell_type": "code",
      "metadata": {
        "id": "HRCg2397rNMG"
      },
      "source": [
        "import matplotlib.image as mpimg\n",
        "img = mpimg.imread('/content/drive/MyDrive/Deep Neural Networks/mafi.jpg')"
      ],
      "execution_count": null,
      "outputs": []
    },
    {
      "cell_type": "code",
      "metadata": {
        "id": "rySMWr0QrCu9"
      },
      "source": [
        "import numpy as np\n",
        "\n",
        "def rgb2gray(rgb):\n",
        "\n",
        "    r, g, b = rgb[:,:,0], rgb[:,:,1], rgb[:,:,2]\n",
        "    gray = 0.2989 * r + 0.5870 * g + 0.1140 * b\n",
        "\n",
        "    return gray"
      ],
      "execution_count": null,
      "outputs": []
    },
    {
      "cell_type": "code",
      "metadata": {
        "id": "3MWSQ_9z-FH2"
      },
      "source": [
        "import numpy as np\n",
        "import cv2\n",
        "import warnings\n",
        "\n",
        " \n",
        "#OpenCV's CascadeClassifier function to where our classifier (XML file format) is stored\n",
        "face_classifier = cv2.CascadeClassifier('Haarcascades/haarcascade_frontalface_default.xml')\n",
        "\n",
        "def face_detector(img):\n",
        "    \n",
        "    #converting image to grayscale\n",
        "    gray = cv2.cvtColor(img, cv2.COLOR_BGR2GRAY)\n",
        "    \n",
        "    # Our classifier returns the ROI of the detected face as a tuple It stores the top left coordinate and the bottom right coordiantes\n",
        "    faces = face_classifier.detectMultiScale(gray)\n",
        "    \n",
        "    # When no faces detected, face_classifier returns and empty tuple\n",
        "    if faces is ():\n",
        "        print(\"No Face Found\")\n",
        "        \n",
        "    # We iterate through our faces array and draw a rectangle over each face in faces\n",
        "    for (x,y,w,h) in faces:\n",
        "        cv2.rectangle(img,(x,y),(x+w,y+h),(127,0,255),2)\n",
        "\n",
        "    return img\n",
        "\n",
        "# Loading our image\n",
        "img = cv2.imread('/content/drive/MyDrive/Deep Neural Networks/mafi.jpg')\n",
        "cv2.imshow('Our Face Extractor', face_detector(img))\n",
        "cv2.waitKey()\n",
        "cv2.destroyAllWindows()"
      ],
      "execution_count": null,
      "outputs": []
    },
    {
      "cell_type": "code",
      "metadata": {
        "colab": {
          "base_uri": "https://localhost:8080/"
        },
        "id": "JzYcJyeyopok",
        "outputId": "7c70e5d6-2446-4205-f2af-3f2e9d3634e8"
      },
      "source": [
        "import cv2\n",
        "import numpy as np\n",
        "img = np.uint8([])\n",
        "img"
      ],
      "execution_count": null,
      "outputs": [
        {
          "output_type": "execute_result",
          "data": {
            "text/plain": [
              "array([], dtype=uint8)"
            ]
          },
          "metadata": {},
          "execution_count": 41
        }
      ]
    },
    {
      "cell_type": "code",
      "metadata": {
        "id": "arTZGnNwpijF"
      },
      "source": [
        "import pkg_resources\n",
        "haar_xml = pkg_resources.resource_filename(\n",
        "    'cv2', 'data/haarcascade_frontalface_default.xml')"
      ],
      "execution_count": null,
      "outputs": []
    },
    {
      "cell_type": "code",
      "metadata": {
        "id": "UxM2PzuYpEWz"
      },
      "source": [
        "k = cv2.waitKey(0)\n",
        "if k == 27:         # wait for ESC key to exit\n",
        "    cv2.destroyAllWindows()\n",
        "elif k == ord('s'): # wait for 's' key to save and exit\n",
        "    cv2.imwrite('/content/drive/MyDrive/Deep Neural Networks/mafi.jpg',img)\n",
        "    cv2.destroyAllWindows()"
      ],
      "execution_count": null,
      "outputs": []
    },
    {
      "cell_type": "code",
      "metadata": {
        "id": "D5ZE3DAWpvyv"
      },
      "source": [
        "img = cv2.imread('/content/drive/MyDrive/Deep Neural Networks/mafi.jpg', cv2.IMREAD_COLOR)\n",
        "\n"
      ],
      "execution_count": null,
      "outputs": []
    },
    {
      "cell_type": "code",
      "metadata": {
        "id": "xC8y5Yx6-FLw"
      },
      "source": [
        "import cv2\n",
        "import numpy as np\n",
        "import warnings\n",
        "warnings.filterwarnings('ignore')\n",
        "\n",
        "\n",
        "#OpenCV's CascadeClassifier function to where our classifier (XML file format) is stored\n",
        "face_classifier = cv2.CascadeClassifier('Haarcascades/haarcascade_frontalface_default.xml')\n",
        "eye_classifier = cv2.CascadeClassifier('Haarcascades/haarcascade_eye.xml')\n",
        "\n",
        "def face_and_eye_detector(img):\n",
        "    \n",
        "    # Convert image to grayscale\n",
        "    gray = cv2.cvtColor(img,cv2.COLOR_BGR2GRAY)\n",
        "\n",
        "    # Our classifier returns the ROI of the detected face as a tuple It stores the top left coordinate and the bottom right coordiantes\n",
        "    faces = face_classifier.detectMultiScale(gray, 1.3, 5)\n",
        "    \n",
        "    # When no faces detected, face_classifier returns image\n",
        "    if faces is ():\n",
        "        return img\n",
        "    \n",
        "    # We iterate through our faces array and draw a rectangle over each face in faces\n",
        "    for (x,y,w,h) in faces:\n",
        "        cv2.rectangle(img,(x,y),(x+w,y+h),(255,0,0),2)\n",
        "        roi_gray = gray[y:y+h, x:x+w]\n",
        "        roi_color = img[y:y+h, x:x+w]\n",
        "        eyes = eye_classifier.detectMultiScale(roi_gray)\n",
        "        \n",
        "        for (ex,ey,ew,eh) in eyes:\n",
        "            cv2.rectangle(roi_color,(ex,ey),(ex+ew,ey+eh),(0,0,255),2) \n",
        "    return img\n",
        "\n",
        "# Loading our image\n",
        "img = cv2.imread('/content/drive/MyDrive/Deep Neural Networks/mafi.jpg')\n",
        "\n",
        "cv2.imshow('Our Face Extractor', face_and_eye_detector(img))\n",
        "cv2.waitKey()\n",
        "cv2.destroyAllWindows()"
      ],
      "execution_count": null,
      "outputs": []
    },
    {
      "cell_type": "code",
      "metadata": {
        "id": "bwSCxew5-FOt"
      },
      "source": [
        ""
      ],
      "execution_count": null,
      "outputs": []
    },
    {
      "cell_type": "code",
      "metadata": {
        "id": "-f3SlOs_-FSE"
      },
      "source": [
        ""
      ],
      "execution_count": null,
      "outputs": []
    },
    {
      "cell_type": "code",
      "metadata": {
        "id": "OXgpuEnG-FVz"
      },
      "source": [
        ""
      ],
      "execution_count": null,
      "outputs": []
    }
  ]
}