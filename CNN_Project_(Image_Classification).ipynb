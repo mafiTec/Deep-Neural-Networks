{
  "nbformat": 4,
  "nbformat_minor": 0,
  "metadata": {
    "colab": {
      "name": "CNN_Project (Image_Classification).ipynb",
      "provenance": [],
      "mount_file_id": "1vz7mI2Qy6zdoSCQfjxDxertHz5rOMKpN",
      "authorship_tag": "ABX9TyNaHwXyE0nt5G8FOYU9diI4",
      "include_colab_link": true
    },
    "kernelspec": {
      "name": "python3",
      "display_name": "Python 3"
    },
    "language_info": {
      "name": "python"
    }
  },
  "cells": [
    {
      "cell_type": "markdown",
      "metadata": {
        "id": "view-in-github",
        "colab_type": "text"
      },
      "source": [
        "<a href=\"https://colab.research.google.com/github/mafiTec/Deep-Neural-Networks/blob/main/CNN_Project_(Image_Classification).ipynb\" target=\"_parent\"><img src=\"https://colab.research.google.com/assets/colab-badge.svg\" alt=\"Open In Colab\"/></a>"
      ]
    },
    {
      "cell_type": "code",
      "metadata": {
        "colab": {
          "base_uri": "https://localhost:8080/",
          "height": 148
        },
        "id": "UDRjJCfQqkPD",
        "outputId": "a889b2bc-90a3-4d63-f6da-0600be310b09"
      },
      "source": [
        "from IPython.display import Image\n",
        "Image(filename='/content/drive/MyDrive/Deep Neural Networks/cn.png')"
      ],
      "execution_count": null,
      "outputs": [
        {
          "output_type": "execute_result",
          "data": {
            "image/png": "[encoded data removed]",
            "text/plain": [
              "<IPython.core.display.Image object>"
            ]
          },
          "metadata": {},
          "execution_count": 26
        }
      ]
    },
    {
      "cell_type": "markdown",
      "metadata": {
        "id": "1xd2OV5uqvR_"
      },
      "source": [
        "# Convolutional Neural Network"
      ]
    },
    {
      "cell_type": "markdown",
      "metadata": {
        "id": "LHcsoUHlDF9W"
      },
      "source": [
        "# Importing the libraries"
      ]
    },
    {
      "cell_type": "code",
      "metadata": {
        "id": "Py_dkhHYqtF2"
      },
      "source": [
        "import tensorflow as tf\n",
        "from keras.preprocessing.image import ImageDataGenerator"
      ],
      "execution_count": null,
      "outputs": []
    },
    {
      "cell_type": "markdown",
      "metadata": {
        "id": "yJX225e2C_6f"
      },
      "source": [
        "# Specifying the TensorFlow version"
      ]
    },
    {
      "cell_type": "code",
      "metadata": {
        "colab": {
          "base_uri": "https://localhost:8080/",
          "height": 35
        },
        "id": "lDQ7g5mtq29s",
        "outputId": "82bb837e-561b-4b1d-acb8-cbe809ca8657"
      },
      "source": [
        "tf.__version__"
      ],
      "execution_count": null,
      "outputs": [
        {
          "output_type": "execute_result",
          "data": {
            "application/vnd.google.colaboratory.intrinsic+json": {
              "type": "string"
            },
            "text/plain": [
              "'2.7.0'"
            ]
          },
          "metadata": {},
          "execution_count": 2
        }
      ]
    },
    {
      "cell_type": "markdown",
      "metadata": {
        "id": "ODAyektWC7A2"
      },
      "source": [
        "# Testing for GPU"
      ]
    },
    {
      "cell_type": "code",
      "metadata": {
        "colab": {
          "base_uri": "https://localhost:8080/",
          "height": 35
        },
        "id": "xxOk1Zs2q3GO",
        "outputId": "c83d3e8b-e681-4f30-c9f1-d5f64dd76fc1"
      },
      "source": [
        "import tensorflow as tf\n",
        "tf.test.gpu_device_name()"
      ],
      "execution_count": null,
      "outputs": [
        {
          "output_type": "execute_result",
          "data": {
            "application/vnd.google.colaboratory.intrinsic+json": {
              "type": "string"
            },
            "text/plain": [
              "''"
            ]
          },
          "metadata": {},
          "execution_count": 3
        }
      ]
    },
    {
      "cell_type": "markdown",
      "metadata": {
        "id": "bQweCmWwC3xv"
      },
      "source": [
        "# Mounting Google Drive locally"
      ]
    },
    {
      "cell_type": "code",
      "metadata": {
        "id": "onzgWXTYq3JX"
      },
      "source": [
        "import os\n",
        "os.chdir('/content/drive/MyDrive/Deep Neural Networks')"
      ],
      "execution_count": null,
      "outputs": []
    },
    {
      "cell_type": "markdown",
      "metadata": {
        "id": "uuxnT22wCsKG"
      },
      "source": [
        "# Data Preprocessing\n",
        "\n",
        "Preprocessing the Training set"
      ]
    },
    {
      "cell_type": "code",
      "metadata": {
        "colab": {
          "base_uri": "https://localhost:8080/"
        },
        "id": "_XpXQOQ1q3Mg",
        "outputId": "c04f6918-4cd6-4842-dc10-2dd3ebb66b9f"
      },
      "source": [
        "train_datagen = ImageDataGenerator(rescale = 1./255,\n",
        "                                   shear_range = 0.2,\n",
        "                                   zoom_range = 0.2,\n",
        "                                   horizontal_flip = True)\n",
        "training_set = train_datagen.flow_from_directory('/content/drive/MyDrive/Deep Neural Networks/training_set',\n",
        "                                                 target_size = (64, 64),\n",
        "                                                 batch_size = 32,\n",
        "                                                 class_mode = 'binary')"
      ],
      "execution_count": null,
      "outputs": [
        {
          "output_type": "stream",
          "name": "stdout",
          "text": [
            "Found 4000 images belonging to 2 classes.\n"
          ]
        }
      ]
    },
    {
      "cell_type": "markdown",
      "metadata": {
        "id": "a7OUU701CoV3"
      },
      "source": [
        "# Preprocessing the Test set"
      ]
    },
    {
      "cell_type": "code",
      "metadata": {
        "colab": {
          "base_uri": "https://localhost:8080/"
        },
        "id": "Mc5QDcS111Xv",
        "outputId": "19716c23-86ac-409b-ba64-e8731bf1df7f"
      },
      "source": [
        "test_datagen = ImageDataGenerator(rescale = 1./255)\n",
        "test_set = test_datagen.flow_from_directory('/content/drive/MyDrive/Deep Neural Networks/test_set',\n",
        "                                            target_size = (64, 64),\n",
        "                                            batch_size = 32,\n",
        "                                            class_mode = 'binary')"
      ],
      "execution_count": null,
      "outputs": [
        {
          "output_type": "stream",
          "name": "stdout",
          "text": [
            "Found 1000 images belonging to 2 classes.\n"
          ]
        }
      ]
    },
    {
      "cell_type": "markdown",
      "metadata": {
        "id": "Z-SA6cvdCaSu"
      },
      "source": [
        "# Building the CNN\n",
        "\n",
        "# Initialising the CNN"
      ]
    },
    {
      "cell_type": "code",
      "metadata": {
        "id": "fsWDUE4111gf"
      },
      "source": [
        "cnn = tf.keras.models.Sequential()"
      ],
      "execution_count": null,
      "outputs": []
    },
    {
      "cell_type": "markdown",
      "metadata": {
        "id": "UP7DTUf6CXF_"
      },
      "source": [
        "# Convolution"
      ]
    },
    {
      "cell_type": "code",
      "metadata": {
        "id": "RTiye08u11jn"
      },
      "source": [
        "cnn.add(tf.keras.layers.Conv2D(filters=32, kernel_size=3, activation='relu', input_shape=[64, 64, 3]))"
      ],
      "execution_count": null,
      "outputs": []
    },
    {
      "cell_type": "markdown",
      "metadata": {
        "id": "ZkgWtj3QCTY_"
      },
      "source": [
        "# Pooling"
      ]
    },
    {
      "cell_type": "code",
      "metadata": {
        "id": "33yQ3RxG11n8"
      },
      "source": [
        "cnn.add(tf.keras.layers.MaxPool2D(pool_size=2, strides=2))"
      ],
      "execution_count": null,
      "outputs": []
    },
    {
      "cell_type": "markdown",
      "metadata": {
        "id": "7YF-6CWYCPXQ"
      },
      "source": [
        "# Adding a second convolutional layer"
      ]
    },
    {
      "cell_type": "code",
      "metadata": {
        "id": "saKP5FzN2Fhm"
      },
      "source": [
        "cnn.add(tf.keras.layers.Conv2D(filters=32, kernel_size=3, activation='relu'))\n",
        "cnn.add(tf.keras.layers.MaxPool2D(pool_size=2, strides=2))"
      ],
      "execution_count": null,
      "outputs": []
    },
    {
      "cell_type": "markdown",
      "metadata": {
        "id": "wBIJGfByCL7N"
      },
      "source": [
        "# Flattening"
      ]
    },
    {
      "cell_type": "code",
      "metadata": {
        "id": "PWvop9uu2Flc"
      },
      "source": [
        "cnn.add(tf.keras.layers.Flatten())"
      ],
      "execution_count": null,
      "outputs": []
    },
    {
      "cell_type": "markdown",
      "metadata": {
        "id": "hwnzJnQzCIOm"
      },
      "source": [
        "# Full Connection"
      ]
    },
    {
      "cell_type": "code",
      "metadata": {
        "id": "Q5H3GqBW2Foo"
      },
      "source": [
        "cnn.add(tf.keras.layers.Dense(units=128, activation='relu'))"
      ],
      "execution_count": null,
      "outputs": []
    },
    {
      "cell_type": "markdown",
      "metadata": {
        "id": "j_DhVldxCEg2"
      },
      "source": [
        "# Output Layer"
      ]
    },
    {
      "cell_type": "code",
      "metadata": {
        "id": "jx0Kd3S82FsG"
      },
      "source": [
        "cnn.add(tf.keras.layers.Dense(units=1, activation='sigmoid'))"
      ],
      "execution_count": null,
      "outputs": []
    },
    {
      "cell_type": "markdown",
      "metadata": {
        "id": "QjvDkkTyB_h2"
      },
      "source": [
        "# Model Summary"
      ]
    },
    {
      "cell_type": "code",
      "metadata": {
        "colab": {
          "base_uri": "https://localhost:8080/"
        },
        "id": "zwbXJkv02FuV",
        "outputId": "7d6cabe4-e028-4b7d-cf7b-b9cc2cc9568c"
      },
      "source": [
        "cnn.summary()"
      ],
      "execution_count": null,
      "outputs": [
        {
          "output_type": "stream",
          "name": "stdout",
          "text": [
            "Model: \"sequential\"\n",
            "_________________________________________________________________\n",
            " Layer (type)                Output Shape              Param #   \n",
            "=================================================================\n",
            " conv2d (Conv2D)             (None, 62, 62, 32)        896       \n",
            "                                                                 \n",
            " max_pooling2d (MaxPooling2D  (None, 31, 31, 32)       0         \n",
            " )                                                               \n",
            "                                                                 \n",
            " conv2d_1 (Conv2D)           (None, 29, 29, 32)        9248      \n",
            "                                                                 \n",
            " max_pooling2d_1 (MaxPooling  (None, 14, 14, 32)       0         \n",
            " 2D)                                                             \n",
            "                                                                 \n",
            " flatten (Flatten)           (None, 6272)              0         \n",
            "                                                                 \n",
            " dense (Dense)               (None, 128)               802944    \n",
            "                                                                 \n",
            " dense_1 (Dense)             (None, 1)                 129       \n",
            "                                                                 \n",
            "=================================================================\n",
            "Total params: 813,217\n",
            "Trainable params: 813,217\n",
            "Non-trainable params: 0\n",
            "_________________________________________________________________\n"
          ]
        }
      ]
    },
    {
      "cell_type": "markdown",
      "metadata": {
        "id": "MtYTRdFOB5du"
      },
      "source": [
        "#Training the CNN\n",
        "\n",
        "#Compiling the CNN"
      ]
    },
    {
      "cell_type": "code",
      "metadata": {
        "id": "kzkJdXwx2Q5d"
      },
      "source": [
        "cnn.compile(optimizer = 'adam', loss = 'binary_crossentropy', metrics = ['accuracy'])"
      ],
      "execution_count": null,
      "outputs": []
    },
    {
      "cell_type": "markdown",
      "metadata": {
        "id": "8Ujos5SgB1T_"
      },
      "source": [
        "# Training the CNN on the Training set and evaluating it on the Test set"
      ]
    },
    {
      "cell_type": "code",
      "metadata": {
        "colab": {
          "base_uri": "https://localhost:8080/"
        },
        "id": "4hu3Z57P2RFH",
        "outputId": "738d464e-704a-4ce9-ec3f-6186efd34ca6"
      },
      "source": [
        "cnn.fit(x = training_set, validation_data = test_set, epochs = 25)"
      ],
      "execution_count": null,
      "outputs": [
        {
          "output_type": "stream",
          "name": "stdout",
          "text": [
            "Epoch 1/25\n",
            "125/125 [==============================] - 2001s 16s/step - loss: 0.6866 - accuracy: 0.5570 - val_loss: 0.6803 - val_accuracy: 0.5300\n",
            "Epoch 2/25\n",
            "125/125 [==============================] - 31s 251ms/step - loss: 0.6419 - accuracy: 0.6240 - val_loss: 0.6199 - val_accuracy: 0.6520\n",
            "Epoch 3/25\n",
            "125/125 [==============================] - 31s 249ms/step - loss: 0.5883 - accuracy: 0.6867 - val_loss: 0.5668 - val_accuracy: 0.7110\n",
            "Epoch 4/25\n",
            "125/125 [==============================] - 31s 246ms/step - loss: 0.5454 - accuracy: 0.7197 - val_loss: 0.5960 - val_accuracy: 0.6770\n",
            "Epoch 5/25\n",
            "125/125 [==============================] - 31s 248ms/step - loss: 0.5272 - accuracy: 0.7310 - val_loss: 0.5157 - val_accuracy: 0.7470\n",
            "Epoch 6/25\n",
            "125/125 [==============================] - 31s 248ms/step - loss: 0.5167 - accuracy: 0.7445 - val_loss: 0.4989 - val_accuracy: 0.7610\n",
            "Epoch 7/25\n",
            "125/125 [==============================] - 32s 252ms/step - loss: 0.5052 - accuracy: 0.7508 - val_loss: 0.4988 - val_accuracy: 0.7640\n",
            "Epoch 8/25\n",
            "125/125 [==============================] - 31s 247ms/step - loss: 0.4967 - accuracy: 0.7487 - val_loss: 0.4829 - val_accuracy: 0.7650\n",
            "Epoch 9/25\n",
            "125/125 [==============================] - 31s 250ms/step - loss: 0.4760 - accuracy: 0.7703 - val_loss: 0.4997 - val_accuracy: 0.7680\n",
            "Epoch 10/25\n",
            "125/125 [==============================] - 31s 247ms/step - loss: 0.4518 - accuracy: 0.7812 - val_loss: 0.4887 - val_accuracy: 0.7670\n",
            "Epoch 11/25\n",
            "125/125 [==============================] - 31s 248ms/step - loss: 0.4558 - accuracy: 0.7840 - val_loss: 0.5092 - val_accuracy: 0.7690\n",
            "Epoch 12/25\n",
            "125/125 [==============================] - 31s 244ms/step - loss: 0.4466 - accuracy: 0.7872 - val_loss: 0.4749 - val_accuracy: 0.7840\n",
            "Epoch 13/25\n",
            "125/125 [==============================] - 30s 241ms/step - loss: 0.4246 - accuracy: 0.8055 - val_loss: 0.5044 - val_accuracy: 0.7760\n",
            "Epoch 14/25\n",
            "125/125 [==============================] - 30s 241ms/step - loss: 0.4161 - accuracy: 0.8138 - val_loss: 0.5023 - val_accuracy: 0.7660\n",
            "Epoch 15/25\n",
            "125/125 [==============================] - 30s 242ms/step - loss: 0.4171 - accuracy: 0.7997 - val_loss: 0.4868 - val_accuracy: 0.7830\n",
            "Epoch 16/25\n",
            "125/125 [==============================] - 30s 242ms/step - loss: 0.3885 - accuracy: 0.8207 - val_loss: 0.4988 - val_accuracy: 0.7790\n",
            "Epoch 17/25\n",
            "125/125 [==============================] - 31s 247ms/step - loss: 0.3766 - accuracy: 0.8273 - val_loss: 0.4911 - val_accuracy: 0.7800\n",
            "Epoch 18/25\n",
            "125/125 [==============================] - 31s 246ms/step - loss: 0.3617 - accuracy: 0.8335 - val_loss: 0.5041 - val_accuracy: 0.7790\n",
            "Epoch 19/25\n",
            "125/125 [==============================] - 31s 244ms/step - loss: 0.3508 - accuracy: 0.8443 - val_loss: 0.5482 - val_accuracy: 0.7580\n",
            "Epoch 20/25\n",
            "125/125 [==============================] - 31s 244ms/step - loss: 0.3404 - accuracy: 0.8447 - val_loss: 0.5059 - val_accuracy: 0.7870\n",
            "Epoch 21/25\n",
            "125/125 [==============================] - 31s 244ms/step - loss: 0.3302 - accuracy: 0.8510 - val_loss: 0.5627 - val_accuracy: 0.7660\n",
            "Epoch 22/25\n",
            "125/125 [==============================] - 30s 242ms/step - loss: 0.3188 - accuracy: 0.8583 - val_loss: 0.5241 - val_accuracy: 0.7900\n",
            "Epoch 23/25\n",
            "125/125 [==============================] - 31s 245ms/step - loss: 0.3083 - accuracy: 0.8660 - val_loss: 0.6087 - val_accuracy: 0.7690\n",
            "Epoch 24/25\n",
            "125/125 [==============================] - 31s 245ms/step - loss: 0.3094 - accuracy: 0.8730 - val_loss: 0.5679 - val_accuracy: 0.7790\n",
            "Epoch 25/25\n",
            "125/125 [==============================] - 31s 246ms/step - loss: 0.2910 - accuracy: 0.8733 - val_loss: 0.5142 - val_accuracy: 0.7890\n"
          ]
        },
        {
          "output_type": "execute_result",
          "data": {
            "text/plain": [
              "<keras.callbacks.History at 0x7fb85cd99810>"
            ]
          },
          "metadata": {},
          "execution_count": 20
        }
      ]
    },
    {
      "cell_type": "code",
      "metadata": {
        "id": "flkeXM2j2WKG"
      },
      "source": [
        "import numpy as np\n",
        "from keras.preprocessing import image\n",
        "test_image = image.load_img('/content/drive/MyDrive/Deep Neural Networks/single_prediction/cat_or_dog_1.jpg', target_size = (64, 64))\n",
        "test_image = image.img_to_array(test_image)\n",
        "test_image = np.expand_dims(test_image, axis = 0)\n",
        "result = cnn.predict(test_image)\n",
        "training_set.class_indices\n",
        "if result[0][0] == 1:\n",
        "    prediction = 'dog'\n",
        "else:\n",
        "    prediction = 'cat'"
      ],
      "execution_count": null,
      "outputs": []
    },
    {
      "cell_type": "markdown",
      "metadata": {
        "id": "1KrlVTXVBuh-"
      },
      "source": [
        "# Making a single prediction"
      ]
    },
    {
      "cell_type": "code",
      "metadata": {
        "colab": {
          "base_uri": "https://localhost:8080/"
        },
        "id": "G-wIeq2E2WOp",
        "outputId": "61f0331a-c798-4368-9bbf-a645f5863e18"
      },
      "source": [
        "print(prediction)"
      ],
      "execution_count": null,
      "outputs": [
        {
          "output_type": "stream",
          "name": "stdout",
          "text": [
            "dog\n"
          ]
        }
      ]
    },
    {
      "cell_type": "code",
      "metadata": {
        "id": "itCwf8Z62WS-"
      },
      "source": [
        ""
      ],
      "execution_count": null,
      "outputs": []
    }
  ]
}